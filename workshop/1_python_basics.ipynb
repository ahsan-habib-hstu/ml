{
 "cells": [
  {
   "cell_type": "markdown",
   "metadata": {},
   "source": [
    "# What is Python?\n",
    "Python was created by __Guido Van Rossum__ in the early 90s. It is now one of the most popular languages in existence.\n",
    "\n",
    "# Why Python?\n",
    "Python is the one of the most widely used programming language. \n",
    "<br>It’s __easy to use__, and has __built-in libraries__ specially for math and string manipulations, and tons of open source libraries for NLP, games, parallel computing…\n",
    "\n",
    "## 1: Introduction\n"
   ]
  },
  {
   "cell_type": "code",
   "execution_count": null,
   "metadata": {},
   "outputs": [],
   "source": [
    "# Below line prints Hello World!\n",
    "print('Hello World!')\n",
    "\n",
    "# Print multiple messages in single function as comma separated values.\n",
    "print('Hello', 'World', '!')\n",
    "\n",
    "# String contact using +\n",
    "print('Hello ' + 'World' + '!')"
   ]
  },
  {
   "cell_type": "markdown",
   "metadata": {},
   "source": [
    "## 2: Variable\n",
    "Assign value to a variable, no declaration is needed. Variable type is created dynamically based on the value."
   ]
  },
  {
   "cell_type": "code",
   "execution_count": null,
   "metadata": {},
   "outputs": [],
   "source": [
    "s = \"Workshop on Machine Learnng\"\n",
    "print( type(s) )"
   ]
  },
  {
   "cell_type": "code",
   "execution_count": null,
   "metadata": {},
   "outputs": [],
   "source": [
    "# Your task: Write code here to assign integer and float value and print their types.\n",
    "\n"
   ]
  },
  {
   "cell_type": "markdown",
   "metadata": {},
   "source": [
    "__Conversion between variable types.__\n",
    "<br>User input always comes as a string. It can be convered to integer using __int()__ function.\n",
    "<br>__str()__ converts to string."
   ]
  },
  {
   "cell_type": "code",
   "execution_count": null,
   "metadata": {},
   "outputs": [],
   "source": [
    "# User input\n",
    "val = input('Enter your value:')\n",
    "print(val, 'Type:', type(val))\n",
    "\n",
    "# Convert to integer\n",
    "val = int(val)\n",
    "print(f\"{val} is now {type(val)}\")"
   ]
  },
  {
   "cell_type": "markdown",
   "metadata": {},
   "source": [
    "__String format using f__\n",
    "<br>In above cell, to format a string, __f\"message {}\"__ is used. Fixed messages are output as it is, variables are put inside {}."
   ]
  },
  {
   "cell_type": "code",
   "execution_count": null,
   "metadata": {},
   "outputs": [],
   "source": [
    "# Write code here to input age and name from user and print them using string format.\n",
    "\n"
   ]
  },
  {
   "cell_type": "markdown",
   "metadata": {},
   "source": [
    "## 3: String\n",
    "<br>___Indexing___\n",
    "<br>__len()__ returns length of string\n",
    "<br>Array is curcular, i.e., from index 0 element, index 1 means 2nd element and -1 indicates last element."
   ]
  },
  {
   "cell_type": "code",
   "execution_count": null,
   "metadata": {},
   "outputs": [],
   "source": [
    "s = 'Machine Learning Workshop'\n",
    "length = len(s)\n",
    "print(f\"Len:{length}, First char:{s[0]}, last char:{s[length-1]}\")"
   ]
  },
  {
   "cell_type": "code",
   "execution_count": null,
   "metadata": {},
   "outputs": [],
   "source": [
    "# Array is curcular, i.e., from index 0 element, index 1 means 2nd element and -1 indicates last element.\n",
    "print(f\"Last character:{s[-1]}, 2nd last char:{s[-2]}\")"
   ]
  },
  {
   "cell_type": "code",
   "execution_count": null,
   "metadata": {},
   "outputs": [],
   "source": [
    "# Write code to print the middle character of the string.\n",
    "\n"
   ]
  },
  {
   "cell_type": "markdown",
   "metadata": {},
   "source": [
    "___Slicing___\n",
    "<br>array[start:end]. Here, end index is exclusive.\n",
    "<br>Leave start empty to indicate start from 0, leave end empty to indicate the end."
   ]
  },
  {
   "cell_type": "code",
   "execution_count": null,
   "metadata": {},
   "outputs": [],
   "source": [
    "# Show first three characters\n",
    "print(s[0:3])\n",
    "\n",
    "\n",
    "# Write code to print from start to end\n",
    "\n"
   ]
  },
  {
   "cell_type": "markdown",
   "metadata": {},
   "source": [
    "## 4: Data Structure\n",
    "<br>__List:__ list elements can be of mixed types. Square brackets, [ and ], are used for list.\n",
    "<br>Follows same indexing rule."
   ]
  },
  {
   "cell_type": "code",
   "execution_count": null,
   "metadata": {},
   "outputs": [],
   "source": [
    "numbers = [1, 2, 3, 4, 5, 6]\n",
    "print(f\"length:{len(numbers)}, element-0 type:{type(numbers[0])}\")\n",
    "\n",
    "numbers.append('elephant')\n",
    "print(f\"length:{len(numbers)}, last element type:{type(numbers[-1])}\")\n",
    "\n",
    "numbers.append(10.5)\n",
    "print(f\"length:{len(numbers)}, last element type:{type(numbers[-1])}\")"
   ]
  },
  {
   "cell_type": "code",
   "execution_count": null,
   "metadata": {},
   "outputs": [],
   "source": [
    "# Write code here to print all list elements\n",
    "\n"
   ]
  },
  {
   "cell_type": "markdown",
   "metadata": {},
   "source": [
    "__tuple__ elements can be of mixed types. Tuple is immutable list represented as first brackets, ( and ).\n",
    "<br>Follows same indexing rule."
   ]
  },
  {
   "cell_type": "code",
   "execution_count": null,
   "metadata": {},
   "outputs": [],
   "source": [
    "alphabets = ('a', 'b', 'c')\n",
    "print(f\"Total {len(alphabets)} items, they are: {alphabets}\")\n",
    "\n",
    "# Try to update the first element\n",
    "alphabets[0] = 'A'"
   ]
  },
  {
   "cell_type": "code",
   "execution_count": null,
   "metadata": {},
   "outputs": [],
   "source": [
    "# Write code here to create a tuple of mixed elements and print them\n",
    "\n"
   ]
  },
  {
   "cell_type": "markdown",
   "metadata": {},
   "source": [
    "__Dictionaries__ store data as key/value pairs. The key can be of any type, however, frequently string or integer are used as keys.\n",
    "<br>Dictionary is represented as curly braces, { and }."
   ]
  },
  {
   "cell_type": "code",
   "execution_count": null,
   "metadata": {},
   "outputs": [],
   "source": [
    "# Store persons name and age.\n",
    "db = {'john':42, 'karim':35, 'charlie':85}\n",
    "\n",
    "print(f\"Length:{len(db)}, John is {db['john']} years old.\")"
   ]
  },
  {
   "cell_type": "markdown",
   "metadata": {},
   "source": [
    "## 5: Condition expressions\n",
    "<br>__IF__ statement is expressed as if / elif / else.\n",
    "<br>Conditional statement body should be aligned, otherwise compilation error displayed."
   ]
  },
  {
   "cell_type": "code",
   "execution_count": null,
   "metadata": {},
   "outputs": [],
   "source": [
    "# Enter age\n",
    "age = input('Enter your age:')\n",
    "\n",
    "# Input is returned as string, so convert it to integer\n",
    "age = int(age)\n",
    "\n",
    "# If age is more than and equal to 18, print adult, else amature.\n",
    "if age >= 18:\n",
    "    print('Adult')\n",
    "else:\n",
    "     print('Amature')   "
   ]
  },
  {
   "cell_type": "code",
   "execution_count": null,
   "metadata": {},
   "outputs": [],
   "source": [
    "# Write code here to take age as input, consider age range 1-7 as child, 8-12 as kid, 12-17 as teen, 18-35 as young, the rest as old.\n",
    "\n"
   ]
  },
  {
   "cell_type": "markdown",
   "metadata": {},
   "source": [
    "## 6: Loops\n",
    "<br>__for__ loop can iterate over a list, tuple, or dictionary.\n",
    "<br>For a sequence, __range(start, end, step)__ function is used."
   ]
  },
  {
   "cell_type": "code",
   "execution_count": null,
   "metadata": {},
   "outputs": [],
   "source": [
    "# Print 1 to 10 using range\n",
    "for i in range(1, 11, 1):\n",
    "    print(i)\n",
    "    \n",
    "print('Iterate through a list.')\n",
    "num_list = [2, 3, 4]\n",
    "for x in num_list:\n",
    "    print(x)\n",
    "    \n",
    "print('Iterate through a dict, only keys are iterated.')\n",
    "for e in db:\n",
    "    print(e)"
   ]
  },
  {
   "cell_type": "code",
   "execution_count": null,
   "metadata": {},
   "outputs": [],
   "source": [
    "# Write code here to print from 10 down to 1 using for loop and range function.\n",
    "\n"
   ]
  },
  {
   "cell_type": "markdown",
   "metadata": {},
   "source": [
    "__while__ loop checks only condition"
   ]
  },
  {
   "cell_type": "code",
   "execution_count": null,
   "metadata": {},
   "outputs": [],
   "source": [
    "# Print 1 to 10\n",
    "i = 1\n",
    "while True:\n",
    "    print(i)\n",
    "    i += 1\n",
    "    if i >= 11:\n",
    "        break"
   ]
  },
  {
   "cell_type": "code",
   "execution_count": null,
   "metadata": {},
   "outputs": [],
   "source": [
    "# Write code here to check condition in while instead of using True (which is an infinite loop).\n",
    "\n"
   ]
  },
  {
   "cell_type": "markdown",
   "metadata": {},
   "source": [
    "## 7: Functions\n",
    "<br>Defined using keyword __def__"
   ]
  },
  {
   "cell_type": "code",
   "execution_count": null,
   "metadata": {},
   "outputs": [],
   "source": [
    "def square(n):\n",
    "    return n*n\n",
    "\n",
    "x = 5\n",
    "print( square(x) )"
   ]
  },
  {
   "cell_type": "code",
   "execution_count": null,
   "metadata": {},
   "outputs": [],
   "source": [
    "# Set default value, return a tuple.\n",
    "def square_cube(n=2):\n",
    "    sq = n*n\n",
    "    cube = n*n*n\n",
    "    return (sq, cube)\n",
    "\n",
    "sq, cb = square_cube()\n",
    "print(sq, cb)"
   ]
  },
  {
   "cell_type": "markdown",
   "metadata": {},
   "source": [
    "## 8: Classes and objects\n",
    "<br>__class__ keyword is used to define a class, constructor is a function defined as init() function, \n",
    "<br>__self__ keyword is passed as the first parameter in all member functions including the constructor function."
   ]
  },
  {
   "cell_type": "code",
   "execution_count": null,
   "metadata": {},
   "outputs": [],
   "source": [
    "class Person():\n",
    "    \n",
    "    # Constructor function\n",
    "    def __init__(self):\n",
    "        # member variables can be declared as self.var_name\n",
    "        self.age = 18\n",
    "        self.name = 'John'\n",
    "    \n",
    "    def show(self):\n",
    "        print(f\"{self.name} is {self.age} years old.\")\n",
    "        \n",
    "# Create instance and call show function\n",
    "p = Person()\n",
    "p.show()"
   ]
  },
  {
   "cell_type": "code",
   "execution_count": null,
   "metadata": {},
   "outputs": [],
   "source": [
    "# Pass name and age as constructor parameters.\n",
    "class Person():\n",
    "    \n",
    "    # Constructor function\n",
    "    def __init__(self, name='John', age=18):\n",
    "        # member variables can be declared as self.var_name\n",
    "        self.age = age\n",
    "        self.name = name\n",
    "    \n",
    "    def show(self):\n",
    "        print(f\"{self.name} is {self.age} years old.\")\n",
    "        \n",
    "p = Person('Karim', age=28)\n",
    "p.show()"
   ]
  },
  {
   "cell_type": "code",
   "execution_count": null,
   "metadata": {},
   "outputs": [],
   "source": [
    "# Write code here to -\n",
    "# 1. create a class Prime and pass a number as a constructor parameter.\n",
    "# 2. Write a member function is_prime(), which returns 0 or 1 based on if the number is not prime or prime.\n",
    "# 3. Write another member function list_primes(), which prints all prime numbers from 1 to the number.\n",
    "# 4. Create instance of Prime, pass 11, and then call both the mumber functions one by one.\n",
    "\n"
   ]
  }
 ],
 "metadata": {
  "kernelspec": {
   "display_name": "Python 3",
   "language": "python",
   "name": "python3"
  },
  "language_info": {
   "codemirror_mode": {
    "name": "ipython",
    "version": 3
   },
   "file_extension": ".py",
   "mimetype": "text/x-python",
   "name": "python",
   "nbconvert_exporter": "python",
   "pygments_lexer": "ipython3",
   "version": "3.7.4"
  }
 },
 "nbformat": 4,
 "nbformat_minor": 4
}
