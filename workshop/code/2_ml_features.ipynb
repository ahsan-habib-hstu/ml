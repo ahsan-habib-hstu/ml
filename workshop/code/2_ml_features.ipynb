{
 "cells": [
  {
   "cell_type": "markdown",
   "metadata": {},
   "source": [
    "# Numpy\n",
    "## Create vectors and matrices using numpy."
   ]
  },
  {
   "cell_type": "code",
   "execution_count": null,
   "metadata": {},
   "outputs": [],
   "source": [
    "# Import numpy package\n",
    "import numpy as np\n",
    "\n"
   ]
  },
  {
   "cell_type": "code",
   "execution_count": null,
   "metadata": {},
   "outputs": [],
   "source": [
    "x = np.array( [1, 2, 3] )\n",
    "print(f\"Example of vector: {x}\")\n"
   ]
  },
  {
   "cell_type": "code",
   "execution_count": null,
   "metadata": {},
   "outputs": [],
   "source": [
    "A = np.array( [(1,3), (3,4)] )\n",
    "print(f\"Example of matrix: {A}\")"
   ]
  },
  {
   "cell_type": "code",
   "execution_count": null,
   "metadata": {},
   "outputs": [],
   "source": [
    "A = np.zeros([3,3])\n",
    "print(f\"Example of all zero matrix is: {A}\")"
   ]
  },
  {
   "cell_type": "code",
   "execution_count": null,
   "metadata": {},
   "outputs": [],
   "source": [
    "A = np.ones([3,3])\n",
    "print(f\"Example of all one matrix is: {A}\")"
   ]
  },
  {
   "cell_type": "code",
   "execution_count": null,
   "metadata": {},
   "outputs": [],
   "source": [
    "A = np.identity(3)\n",
    "print(f\"Example of identity matrix is: {A}\")"
   ]
  },
  {
   "cell_type": "code",
   "execution_count": null,
   "metadata": {},
   "outputs": [],
   "source": [
    "B = np.random.randn(4, 3)\n",
    "print(f\"Example of a random matrix: {B}\")"
   ]
  },
  {
   "cell_type": "markdown",
   "metadata": {},
   "source": [
    "## Matrix addition and multiplication\n",
    "<br>"
   ]
  },
  {
   "cell_type": "code",
   "execution_count": null,
   "metadata": {},
   "outputs": [],
   "source": [
    "A = np.identity(2)\n",
    "B = np.random.randn(2, 2)\n",
    "print(f\"A = \\n{A}\")\n",
    "print(f\"B = \\n{B}\")\n",
    "print(f\"A+B = \\n{A+B}\")"
   ]
  },
  {
   "cell_type": "code",
   "execution_count": null,
   "metadata": {},
   "outputs": [],
   "source": [
    "print(f\"A*B = \\n{A*B}\")"
   ]
  },
  {
   "cell_type": "code",
   "execution_count": null,
   "metadata": {},
   "outputs": [],
   "source": [
    "print(f\"A*3 = \\n{3*A}\")"
   ]
  },
  {
   "cell_type": "code",
   "execution_count": null,
   "metadata": {},
   "outputs": [],
   "source": [
    "A = np.random.randn(2, 2)\n",
    "B = np.random.randn(2, 1)\n",
    "print(f\"A = \\n{A}\")\n",
    "print(f\"B = \\n{B}\")\n",
    "print(f\"A.B = \\n{A.dot(B)}\")\n",
    "print(f\"B.A = \\n{B.dot(A)}\")"
   ]
  },
  {
   "cell_type": "markdown",
   "metadata": {},
   "source": [
    "## Display in Matplotlib"
   ]
  },
  {
   "cell_type": "code",
   "execution_count": null,
   "metadata": {},
   "outputs": [],
   "source": [
    "import matplotlib.pyplot as plt\n",
    "import numpy as np\n",
    "\n",
    "x = np.array([1, 2, 3, 4])\n",
    "y = np.array([10, 12, 8, 15])\n",
    "\n",
    "plt.plot(x, y)\n",
    "plt.show()"
   ]
  },
  {
   "cell_type": "markdown",
   "metadata": {},
   "source": [
    "## Scikit-Learn package\n",
    "<br>Robust machine-learning library\n",
    "<br>__SciPy__: Fundamental library for scientific computing\n",
    "<br>__NumPy__: Base n-dimensional array package\n",
    "<br>__Pandas__: Data structures and analysis\n",
    "<br>__Matplotlib__: Comprehensive 2D/3D plotting\n",
    "<br>__IPython/Jupyter__:Enhanced interactive console\n",
    "<br>__Sympy__:Symbolic mathematics\n",
    "<br> Install using, (pip install -U scikit-learn) or (conda install scikit-learn)\n",
    "<br>\n",
    "<br>\n",
    "## Dataset in Scikit-Learn\n",
    "<br> A dataset is a dictionary-like object that holds all data and meta-data.\n",
    "<br> Data is stored in __.data__ member, which is a n_samples, n_features array\n",
    "<br> Comes with a few standard datasets (i.e. __iris__ and __digits__ datasets for classification and the __boston house prices__ dataset for regression)\n",
    "<br> For supervised problem, one or more response variables are stored in the __.target__ member."
   ]
  },
  {
   "cell_type": "code",
   "execution_count": null,
   "metadata": {},
   "outputs": [],
   "source": [
    "from sklearn import datasets\n",
    "\n",
    "# Load digits dataset\n",
    "digits = datasets.load_digits()\n",
    "\n",
    "print(f\"digits.data: {digits.data.shape}\")\n",
    "print(f\"digits.target: {digits.target}\")"
   ]
  },
  {
   "cell_type": "markdown",
   "metadata": {},
   "source": [
    "## Learning models using the scikit-learn library\n",
    "<br> Train a regressor model and test."
   ]
  },
  {
   "cell_type": "code",
   "execution_count": null,
   "metadata": {},
   "outputs": [],
   "source": [
    "from sklearn.linear_model import LinearRegression\n",
    "import numpy as np\n",
    "import matplotlib.pyplot as plt\n",
    "\n",
    "# create new linear model object\n",
    "linear_model = LinearRegression()\n",
    "\n",
    "# Generate 100 random training data between 0-1 (train input)\n",
    "X = np.random.rand(100, 1)\n",
    "# Create an exponential function as y (train output)\n",
    "Y = np.exp(X)\n",
    "\n",
    "# train the model\n",
    "linear_model.fit( X, Y )\n",
    "\n",
    "# Generate test data (test input)\n",
    "X_test = np.random.rand(300, 1)\n",
    "\n",
    "# Predict test label (test output)\n",
    "Y_test = linear_model.predict(X_test)\n",
    "\n",
    "plt.plot(X, Y, '.b')\n",
    "plt.plot(X_test, Y_test, color='red', linewidth=3)\n",
    "plt.show()"
   ]
  }
 ],
 "metadata": {
  "kernelspec": {
   "display_name": "Python 3",
   "language": "python",
   "name": "python3"
  },
  "language_info": {
   "codemirror_mode": {
    "name": "ipython",
    "version": 3
   },
   "file_extension": ".py",
   "mimetype": "text/x-python",
   "name": "python",
   "nbconvert_exporter": "python",
   "pygments_lexer": "ipython3",
   "version": "3.7.4"
  }
 },
 "nbformat": 4,
 "nbformat_minor": 4
}
