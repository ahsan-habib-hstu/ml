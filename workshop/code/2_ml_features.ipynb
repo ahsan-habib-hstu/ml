{
 "cells": [
  {
   "cell_type": "markdown",
   "metadata": {},
   "source": [
    "# Numpy\n",
    "## Create vectors and matrices using numpy."
   ]
  },
  {
   "cell_type": "code",
   "execution_count": 1,
   "metadata": {},
   "outputs": [],
   "source": [
    "# Import numpy package\n",
    "import numpy as np\n",
    "\n"
   ]
  },
  {
   "cell_type": "code",
   "execution_count": 4,
   "metadata": {},
   "outputs": [
    {
     "name": "stdout",
     "output_type": "stream",
     "text": [
      "Example of vector: [1 2 3]\n"
     ]
    }
   ],
   "source": [
    "x = np.array( [1, 2, 3] )\n",
    "print(f\"Example of vector: {x}\")\n"
   ]
  },
  {
   "cell_type": "code",
   "execution_count": 6,
   "metadata": {},
   "outputs": [
    {
     "name": "stdout",
     "output_type": "stream",
     "text": [
      "Example of matrix: [[1 3]\n",
      " [3 4]]\n"
     ]
    }
   ],
   "source": [
    "A = np.array( [(1,3), (3,4)] )\n",
    "print(f\"Example of matrix: {A}\")"
   ]
  },
  {
   "cell_type": "code",
   "execution_count": 7,
   "metadata": {},
   "outputs": [
    {
     "name": "stdout",
     "output_type": "stream",
     "text": [
      "Example of all zero matrix is: [[0. 0. 0.]\n",
      " [0. 0. 0.]\n",
      " [0. 0. 0.]]\n"
     ]
    }
   ],
   "source": [
    "A = np.zeros([3,3])\n",
    "print(f\"Example of all zero matrix is: {A}\")"
   ]
  },
  {
   "cell_type": "code",
   "execution_count": 9,
   "metadata": {},
   "outputs": [
    {
     "name": "stdout",
     "output_type": "stream",
     "text": [
      "Example of all one matrix is: [[1. 1. 1.]\n",
      " [1. 1. 1.]\n",
      " [1. 1. 1.]]\n"
     ]
    }
   ],
   "source": [
    "A = np.ones([3,3])\n",
    "print(f\"Example of all one matrix is: {A}\")"
   ]
  },
  {
   "cell_type": "code",
   "execution_count": 11,
   "metadata": {},
   "outputs": [
    {
     "name": "stdout",
     "output_type": "stream",
     "text": [
      "Example of identity matrix is: [[1. 0. 0.]\n",
      " [0. 1. 0.]\n",
      " [0. 0. 1.]]\n"
     ]
    }
   ],
   "source": [
    "A = np.identity(3)\n",
    "print(f\"Example of identity matrix is: {A}\")"
   ]
  },
  {
   "cell_type": "code",
   "execution_count": 14,
   "metadata": {},
   "outputs": [
    {
     "name": "stdout",
     "output_type": "stream",
     "text": [
      "Example of a random matrix: [[-0.03439464  0.4973552   0.83811644]\n",
      " [ 2.26033103  0.41722472  0.53053792]\n",
      " [ 3.61947098 -3.6119866   1.39797008]\n",
      " [ 0.19723694 -0.61377436 -1.76850087]]\n"
     ]
    }
   ],
   "source": [
    "B = np.random.randn(4, 3)\n",
    "print(f\"Example of a random matrix: {B}\")"
   ]
  },
  {
   "cell_type": "markdown",
   "metadata": {},
   "source": [
    "## Matrix addition and multiplication\n",
    "<br>"
   ]
  },
  {
   "cell_type": "code",
   "execution_count": 19,
   "metadata": {},
   "outputs": [
    {
     "name": "stdout",
     "output_type": "stream",
     "text": [
      "A = \n",
      "[[1. 0.]\n",
      " [0. 1.]]\n",
      "B = \n",
      "[[ 0.70960568 -0.09788732]\n",
      " [-0.42263062  0.10989387]]\n",
      "A+B = \n",
      "[[ 1.70960568 -0.09788732]\n",
      " [-0.42263062  1.10989387]]\n"
     ]
    }
   ],
   "source": [
    "A = np.identity(2)\n",
    "B = np.random.randn(2, 2)\n",
    "print(f\"A = \\n{A}\")\n",
    "print(f\"B = \\n{B}\")\n",
    "print(f\"A+B = \\n{A+B}\")"
   ]
  },
  {
   "cell_type": "code",
   "execution_count": 17,
   "metadata": {},
   "outputs": [
    {
     "name": "stdout",
     "output_type": "stream",
     "text": [
      "A*B = \n",
      "[[ 0.78069461 -0.        ]\n",
      " [ 0.         -0.12398576]]\n"
     ]
    }
   ],
   "source": [
    "print(f\"A*B = \\n{A*B}\")"
   ]
  },
  {
   "cell_type": "code",
   "execution_count": 20,
   "metadata": {},
   "outputs": [
    {
     "name": "stdout",
     "output_type": "stream",
     "text": [
      "A*3 = \n",
      "[[3. 0.]\n",
      " [0. 3.]]\n"
     ]
    }
   ],
   "source": [
    "print(f\"A*3 = \\n{3*A}\")"
   ]
  },
  {
   "cell_type": "code",
   "execution_count": 21,
   "metadata": {},
   "outputs": [
    {
     "name": "stdout",
     "output_type": "stream",
     "text": [
      "A = \n",
      "[[ 0.87986498 -1.11994926]\n",
      " [ 0.00683367 -0.18314852]]\n",
      "B = \n",
      "[[-0.13911871]\n",
      " [ 0.82051985]]\n",
      "A.B = \n",
      "[[-1.04134628]\n",
      " [-0.15122769]]\n"
     ]
    },
    {
     "ename": "ValueError",
     "evalue": "shapes (2,1) and (2,2) not aligned: 1 (dim 1) != 2 (dim 0)",
     "output_type": "error",
     "traceback": [
      "\u001b[0;31m---------------------------------------------------------------------------\u001b[0m",
      "\u001b[0;31mValueError\u001b[0m                                Traceback (most recent call last)",
      "\u001b[0;32m<ipython-input-21-8e2bae17b015>\u001b[0m in \u001b[0;36m<module>\u001b[0;34m\u001b[0m\n\u001b[1;32m      4\u001b[0m \u001b[0mprint\u001b[0m\u001b[0;34m(\u001b[0m\u001b[0;34mf\"B = \\n{B}\"\u001b[0m\u001b[0;34m)\u001b[0m\u001b[0;34m\u001b[0m\u001b[0;34m\u001b[0m\u001b[0m\n\u001b[1;32m      5\u001b[0m \u001b[0mprint\u001b[0m\u001b[0;34m(\u001b[0m\u001b[0;34mf\"A.B = \\n{A.dot(B)}\"\u001b[0m\u001b[0;34m)\u001b[0m\u001b[0;34m\u001b[0m\u001b[0;34m\u001b[0m\u001b[0m\n\u001b[0;32m----> 6\u001b[0;31m \u001b[0mprint\u001b[0m\u001b[0;34m(\u001b[0m\u001b[0;34mf\"B.A = \\n{B.dot(A)}\"\u001b[0m\u001b[0;34m)\u001b[0m\u001b[0;34m\u001b[0m\u001b[0;34m\u001b[0m\u001b[0m\n\u001b[0m",
      "\u001b[0;31mValueError\u001b[0m: shapes (2,1) and (2,2) not aligned: 1 (dim 1) != 2 (dim 0)"
     ]
    }
   ],
   "source": [
    "A = np.random.randn(2, 2)\n",
    "B = np.random.randn(2, 1)\n",
    "print(f\"A = \\n{A}\")\n",
    "print(f\"B = \\n{B}\")\n",
    "print(f\"A.B = \\n{A.dot(B)}\")\n",
    "print(f\"B.A = \\n{B.dot(A)}\")"
   ]
  },
  {
   "cell_type": "markdown",
   "metadata": {},
   "source": [
    "## Display in Matplotlib"
   ]
  },
  {
   "cell_type": "code",
   "execution_count": 23,
   "metadata": {},
   "outputs": [
    {
     "data": {
      "image/png": "[encoded data removed]",
      "text/plain": [
       "<Figure size 432x288 with 1 Axes>"
      ]
     },
     "metadata": {
      "needs_background": "light"
     },
     "output_type": "display_data"
    }
   ],
   "source": [
    "import matplotlib.pyplot as plt\n",
    "import numpy as np\n",
    "\n",
    "x = np.array([1, 2, 3, 4])\n",
    "y = np.array([10, 12, 8, 15])\n",
    "\n",
    "plt.plot(x, y)\n",
    "plt.show()"
   ]
  },
  {
   "cell_type": "markdown",
   "metadata": {},
   "source": [
    "## Scikit-Learn package\n",
    "<br>Robust machine-learning library\n",
    "<br>__SciPy__: Fundamental library for scientific computing\n",
    "<br>__NumPy__: Base n-dimensional array package\n",
    "<br>__Pandas__: Data structures and analysis\n",
    "<br>__Matplotlib__: Comprehensive 2D/3D plotting\n",
    "<br>__IPython/Jupyter__:Enhanced interactive console\n",
    "<br>__Sympy__:Symbolic mathematics\n",
    "<br> Install using, (pip install -U scikit-learn) or (conda install scikit-learn)\n",
    "<br>\n",
    "<br>\n",
    "## Dataset in Scikit-Learn\n",
    "<br> A dataset is a dictionary-like object that holds all data and meta-data.\n",
    "<br> Data is stored in __.data__ member, which is a n_samples, n_features array\n",
    "<br> Comes with a few standard datasets (i.e. __iris__ and __digits__ datasets for classification and the __boston house prices__ dataset for regression)\n",
    "<br> For supervised problem, one or more response variables are stored in the __.target__ member."
   ]
  },
  {
   "cell_type": "code",
   "execution_count": 24,
   "metadata": {},
   "outputs": [
    {
     "name": "stdout",
     "output_type": "stream",
     "text": [
      "digits.data: (1797, 64)\n",
      "digits.target: [0 1 2 ... 8 9 8]\n"
     ]
    }
   ],
   "source": [
    "from sklearn import datasets\n",
    "\n",
    "# Load digits dataset\n",
    "digits = datasets.load_digits()\n",
    "\n",
    "print(f\"digits.data: {digits.data.shape}\")\n",
    "print(f\"digits.target: {digits.target}\")"
   ]
  },
  {
   "cell_type": "markdown",
   "metadata": {},
   "source": [
    "## Learning models using the scikit-learn library\n",
    "<br> Train a regressor model and test."
   ]
  },
  {
   "cell_type": "code",
   "execution_count": 25,
   "metadata": {},
   "outputs": [
    {
     "data": {
      "image/png": "[encoded data removed]",
      "text/plain": [
       "<Figure size 432x288 with 1 Axes>"
      ]
     },
     "metadata": {
      "needs_background": "light"
     },
     "output_type": "display_data"
    }
   ],
   "source": [
    "from sklearn.linear_model import LinearRegression\n",
    "import numpy as np\n",
    "import matplotlib.pyplot as plt\n",
    "\n",
    "# create new linear model object\n",
    "linear_model = LinearRegression()\n",
    "\n",
    "# Generate 100 random training data between 0-1 (train input)\n",
    "X = np.random.rand(100, 1)\n",
    "# Create an exponential function as y (train output)\n",
    "Y = np.exp(X)\n",
    "\n",
    "# train the model\n",
    "linear_model.fit( X, Y )\n",
    "\n",
    "# Generate test data (test input)\n",
    "X_test = np.random.rand(300, 1)\n",
    "\n",
    "# Predict test label (test output)\n",
    "Y_test = linear_model.predict(X_test)\n",
    "\n",
    "plt.plot(X, Y, '.b')\n",
    "plt.plot(X_test, Y_test, color='red', linewidth=3)\n",
    "plt.show()"
   ]
  }
 ],
 "metadata": {
  "kernelspec": {
   "display_name": "Python 3",
   "language": "python",
   "name": "python3"
  },
  "language_info": {
   "codemirror_mode": {
    "name": "ipython",
    "version": 3
   },
   "file_extension": ".py",
   "mimetype": "text/x-python",
   "name": "python",
   "nbconvert_exporter": "python",
   "pygments_lexer": "ipython3",
   "version": "3.7.4"
  }
 },
 "nbformat": 4,
 "nbformat_minor": 4
}
