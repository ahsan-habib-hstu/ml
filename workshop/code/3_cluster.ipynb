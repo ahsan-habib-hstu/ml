{
 "cells": [
  {
   "cell_type": "markdown",
   "metadata": {},
   "source": [
    "# Clustering\n",
    "<br> __Cluster using K-Means.__\n",
    "<br> Some random numbers are used to test K-Means."
   ]
  },
  {
   "cell_type": "code",
   "execution_count": null,
   "metadata": {},
   "outputs": [],
   "source": [
    "from matplotlib import pyplot as plt\n",
    "import numpy as np\n",
    "from sklearn.cluster import KMeans\n"
   ]
  },
  {
   "cell_type": "code",
   "execution_count": null,
   "metadata": {},
   "outputs": [],
   "source": [
    "# Create random data points\n",
    "x = [1, 5, 1.5, 8, 1, 9]\n",
    "y = [2, 8, 1.8, 8, 0.6, 11]\n",
    "\n",
    "plt.scatter(x, y)\n",
    "plt.show()"
   ]
  },
  {
   "cell_type": "code",
   "execution_count": null,
   "metadata": {},
   "outputs": [],
   "source": [
    "# Create single matrix taking x, y as columns\n",
    "X = [[p, q] for p, q in zip(x,y)]\n",
    "\n",
    "print(X)"
   ]
  },
  {
   "cell_type": "code",
   "execution_count": null,
   "metadata": {},
   "outputs": [],
   "source": [
    "# K-Means with 2 clusters, initialise the class.\n",
    "kmeans = KMeans(n_clusters=2)\n",
    "\n",
    "# Perform clustering on data\n",
    "kmeans.fit( X )\n",
    "\n",
    "# Get the centers of two clusters.\n",
    "centroids = kmeans.cluster_centers_\n",
    "labels = kmeans.labels_\n",
    "print(f\"Centroids: {centroids}\")\n",
    "print(f\"Labels: {labels}\")"
   ]
  },
  {
   "cell_type": "code",
   "execution_count": null,
   "metadata": {},
   "outputs": [],
   "source": [
    "# Lets try to visualize the clusters\n",
    "colors = ['g.', 'r.', 'c.', 'y.']\n",
    "for i in range( len(X) ):\n",
    "    print(f\"coordinate:{X[i]}, label:{labels[i]}\")\n",
    "    plt.plot(X[i][0], X[i][1], colors[labels[i]], markersize=10)\n",
    "    \n",
    "# Visualize the centroids\n",
    "plt.scatter(centroids[:, 0], centroids[:, 1], marker='x', s=150, linewidths=5, zorder=10)"
   ]
  },
  {
   "cell_type": "markdown",
   "metadata": {},
   "source": [
    "## Clustering on digits data.\n",
    "<br> 1. Load digits data\n",
    "<br> 2. Number of clusters is 10. Targets are between 0 and 9. \n",
    "<br> 3. Try to verify cluster centroids with digit data targets. "
   ]
  },
  {
   "cell_type": "code",
   "execution_count": null,
   "metadata": {},
   "outputs": [],
   "source": [
    "# Write code here as per the above steps.\n",
    "\n",
    "from sklearn import datasets, metrics\n",
    "from sklearn.preprocessing import scale\n",
    "\n",
    "# Load digits dataset\n",
    "X_digits, y_digits = datasets.load_digits(return_X_y=True)\n",
    "data = scale(X_digits)\n",
    "\n",
    "n_samples, n_features = data.shape\n",
    "n_digits = len(np.unique(y_digits))\n",
    "labels = y_digits\n",
    "\n",
    "print(f\"n_digits:{n_digits}, n_samples:{n_samples}, n_features:{n_features}\")"
   ]
  },
  {
   "cell_type": "code",
   "execution_count": null,
   "metadata": {},
   "outputs": [],
   "source": [
    "# K-Means with 10 clusters, random initialisation.\n",
    "kmeans = KMeans(init='random', n_clusters=n_digits, n_init=10)\n",
    "kmeans.fit( data )\n",
    "\n",
    "# Get the centers of two clusters.\n",
    "print(f\"Centroids: {kmeans.cluster_centers_.shape}\")\n",
    "print(f\"Labels: {kmeans.labels_}, shape:{kmeans.labels_.shape}\")\n",
    "\n",
    "print(f\"Adjusted rand index: {metrics.adjusted_rand_score(labels, kmeans.labels_)}\")\n",
    "print(f\"Adjusted mutual info: {metrics.adjusted_mutual_info_score(labels, kmeans.labels_)}\")"
   ]
  },
  {
   "cell_type": "code",
   "execution_count": null,
   "metadata": {},
   "outputs": [],
   "source": [
    "# K-Means with 10 clusters, KMeans++ initialisation.\n",
    "kmeans = KMeans(init='k-means++', n_clusters=n_digits, n_init=10)\n",
    "kmeans.fit( data )\n",
    "\n",
    "# Get the centers of two clusters.\n",
    "print(f\"Centroids: {kmeans.cluster_centers_.shape}\")\n",
    "print(f\"Labels: {kmeans.labels_}, shape:{kmeans.labels_.shape}\")\n",
    "\n",
    "print(f\"Adjusted rand index: {metrics.adjusted_rand_score(labels, kmeans.labels_)}\")\n",
    "print(f\"Adjusted mutual info: {metrics.adjusted_mutual_info_score(labels, kmeans.labels_)}\")"
   ]
  },
  {
   "cell_type": "markdown",
   "metadata": {},
   "source": [
    "# Reduce Dimensionality\n",
    "# PCA (Principal Component Analysis)"
   ]
  },
  {
   "cell_type": "code",
   "execution_count": null,
   "metadata": {},
   "outputs": [],
   "source": [
    "from sklearn.decomposition import PCA\n",
    "reduced_data = PCA(n_components=2).fit_transform(data)\n",
    "kmeans = KMeans(init='k-means++', n_clusters=n_digits, n_init=10)\n",
    "kmeans.fit(reduced_data)\n",
    "\n",
    "print(f\"Adjusted rand index: {metrics.adjusted_rand_score(labels, kmeans.labels_)}\")\n",
    "# print(f\"Adjusted mutual info: {metrics.adjusted_mutual_info_score(labels, kmeans.labels_)}\")"
   ]
  },
  {
   "cell_type": "code",
   "execution_count": null,
   "metadata": {},
   "outputs": [],
   "source": [
    "# Write code to increase number of components and observe ARI and AMI.\n",
    "\n"
   ]
  }
 ],
 "metadata": {
  "kernelspec": {
   "display_name": "Python 3",
   "language": "python",
   "name": "python3"
  },
  "language_info": {
   "codemirror_mode": {
    "name": "ipython",
    "version": 3
   },
   "file_extension": ".py",
   "mimetype": "text/x-python",
   "name": "python",
   "nbconvert_exporter": "python",
   "pygments_lexer": "ipython3",
   "version": "3.7.4"
  }
 },
 "nbformat": 4,
 "nbformat_minor": 4
}
