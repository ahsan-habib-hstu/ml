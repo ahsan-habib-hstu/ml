{
 "cells": [
  {
   "cell_type": "markdown",
   "metadata": {},
   "source": [
    "# Convolutonal Neural Network (CNN)\n",
    "## Using Keras deep learning package\n",
    "<br> The Keras deep learning library provides a convenience method for loading the MNIST dataset.\n",
    "<br> The dataset is downloaded automatically the first time this function is called and is stored in your home directory in ~/.keras/datasets/mnist.pkl.gz as a 15MB file."
   ]
  },
  {
   "cell_type": "code",
   "execution_count": 2,
   "metadata": {},
   "outputs": [
    {
     "data": {
      "image/png": "[encoded data removed]",
      "text/plain": [
       "<Figure size 432x288 with 4 Axes>"
      ]
     },
     "metadata": {
      "needs_background": "light"
     },
     "output_type": "display_data"
    }
   ],
   "source": [
    "# Plot ad hoc mnist instances\n",
    "from keras.datasets import mnist\n",
    "import matplotlib.pyplot as plt\n",
    "# load (downloaded if needed) the MNIST dataset\n",
    "(X_train, y_train), (X_test, y_test) = mnist.load_data()\n",
    "# plot 4 images as gray scale\n",
    "plt.subplot(221)\n",
    "plt.imshow(X_train[0], cmap=plt.get_cmap('gray'))\n",
    "plt.subplot(222)\n",
    "plt.imshow(X_train[1], cmap=plt.get_cmap('gray'))\n",
    "plt.subplot(223)\n",
    "plt.imshow(X_train[2], cmap=plt.get_cmap('gray'))\n",
    "plt.subplot(224)\n",
    "plt.imshow(X_train[3], cmap=plt.get_cmap('gray'))\n",
    "# show the plot\n",
    "plt.show()"
   ]
  },
  {
   "cell_type": "markdown",
   "metadata": {},
   "source": [
    "## Baseline MLP - Multi Layer Perceptron."
   ]
  },
  {
   "cell_type": "code",
   "execution_count": 10,
   "metadata": {},
   "outputs": [
    {
     "name": "stdout",
     "output_type": "stream",
     "text": [
      "Xtrain:(60000, 28, 28), y_train:(60000,), X_test:(10000, 28, 28), y_test:(10000,)\n",
      "y_train:(60000, 10), y_test:(10000, 10), num_classes:10\n",
      "Train on 60000 samples, validate on 10000 samples\n",
      "Epoch 1/10\n",
      "60000/60000 - 4s - loss: 0.2816 - accuracy: 0.9205 - val_loss: 0.1398 - val_accuracy: 0.9582\n",
      "Epoch 2/10\n",
      "60000/60000 - 4s - loss: 0.1125 - accuracy: 0.9677 - val_loss: 0.0967 - val_accuracy: 0.9701\n",
      "Epoch 3/10\n",
      "60000/60000 - 4s - loss: 0.0725 - accuracy: 0.9793 - val_loss: 0.0788 - val_accuracy: 0.9761\n",
      "Epoch 4/10\n",
      "60000/60000 - 4s - loss: 0.0507 - accuracy: 0.9853 - val_loss: 0.0726 - val_accuracy: 0.9767\n",
      "Epoch 5/10\n",
      "60000/60000 - 5s - loss: 0.0365 - accuracy: 0.9899 - val_loss: 0.0662 - val_accuracy: 0.9791\n",
      "Epoch 6/10\n",
      "60000/60000 - 5s - loss: 0.0270 - accuracy: 0.9931 - val_loss: 0.0606 - val_accuracy: 0.9810\n",
      "Epoch 7/10\n",
      "60000/60000 - 6s - loss: 0.0194 - accuracy: 0.9952 - val_loss: 0.0625 - val_accuracy: 0.9814\n",
      "Epoch 8/10\n",
      "60000/60000 - 6s - loss: 0.0152 - accuracy: 0.9963 - val_loss: 0.0627 - val_accuracy: 0.9810\n",
      "Epoch 9/10\n",
      "60000/60000 - 5s - loss: 0.0105 - accuracy: 0.9980 - val_loss: 0.0639 - val_accuracy: 0.9802\n",
      "Epoch 10/10\n",
      "60000/60000 - 5s - loss: 0.0079 - accuracy: 0.9983 - val_loss: 0.0568 - val_accuracy: 0.9828\n",
      "Baseline error: 1.72\n"
     ]
    }
   ],
   "source": [
    "# Baseline MLP for MNIST dataset\n",
    "from tensorflow.keras.models import Sequential\n",
    "from tensorflow.keras.layers import Dense\n",
    "from keras.utils import np_utils\n",
    "\n",
    "# load data\n",
    "(X_train, y_train), (X_test, y_test) = mnist.load_data()\n",
    "print(f\"Xtrain:{X_train.shape}, y_train:{y_train.shape}, X_test:{X_test.shape}, y_test:{y_test.shape}\")\n",
    "\n",
    "# Flatten 28*28 images to a 784 vector for each image\n",
    "num_pixels = X_train.shape[1] * X_train.shape[2]\n",
    "X_train = X_train.reshape((X_train.shape[0], num_pixels)).astype('float32')\n",
    "X_test = X_test.reshape((X_test.shape[0], num_pixels)).astype('float32')\n",
    "\n",
    "# normalize inputs from 0-255 to 0-1\n",
    "X_train = X_train / 255\n",
    "X_test = X_test / 255\n",
    "\n",
    "# one hot encode outputs\n",
    "y_train = np_utils.to_categorical(y_train)\n",
    "y_test = np_utils.to_categorical(y_test)\n",
    "num_classes = y_test.shape[1]\n",
    "print(f\"y_train:{y_train.shape}, y_test:{y_test.shape}, num_classes:{num_classes}\")\n",
    "\n",
    "# Define baseline model\n",
    "def baseline_model():\n",
    "    # create model\n",
    "    model = Sequential()\n",
    "    model.add( Dense(num_pixels,input_dim=num_pixels, kernel_initializer='normal', activation='relu'))\n",
    "    model.add( Dense(num_classes, kernel_initializer='normal', activation='softmax'))\n",
    "    # compile model\n",
    "    model.compile(loss='categorical_crossentropy', optimizer='adam', metrics=['accuracy'])\n",
    "    return model\n",
    "\n",
    "# build model\n",
    "model = baseline_model()\n",
    "\n",
    "# Fit the model\n",
    "model.fit(X_train, y_train, validation_data=(X_test, y_test), epochs=10, batch_size=200, verbose=2)\n",
    "\n",
    "# Final evaluation of the model\n",
    "scores = model.evaluate(X_test, y_test, verbose=0)\n",
    "print(f\"Baseline error: {100-scores[1]*100:0.2f}\")"
   ]
  },
  {
   "cell_type": "markdown",
   "metadata": {},
   "source": [
    "## Simple CNN"
   ]
  },
  {
   "cell_type": "code",
   "execution_count": 15,
   "metadata": {},
   "outputs": [
    {
     "name": "stdout",
     "output_type": "stream",
     "text": [
      "Train on 60000 samples, validate on 10000 samples\n",
      "Epoch 1/10\n",
      "60000/60000 [==============================] - 26s 440us/sample - loss: 0.2464 - accuracy: 0.9301 - val_loss: 0.0824 - val_accuracy: 0.9738\n",
      "Epoch 2/10\n",
      "60000/60000 [==============================] - 28s 459us/sample - loss: 0.0741 - accuracy: 0.9780 - val_loss: 0.0527 - val_accuracy: 0.9823\n",
      "Epoch 3/10\n",
      "60000/60000 [==============================] - 26s 437us/sample - loss: 0.0506 - accuracy: 0.9847 - val_loss: 0.0438 - val_accuracy: 0.9850\n",
      "Epoch 4/10\n",
      "60000/60000 [==============================] - 27s 456us/sample - loss: 0.0395 - accuracy: 0.9878 - val_loss: 0.0411 - val_accuracy: 0.9875\n",
      "Epoch 5/10\n",
      "60000/60000 [==============================] - 26s 439us/sample - loss: 0.0317 - accuracy: 0.9898 - val_loss: 0.0324 - val_accuracy: 0.9894\n",
      "Epoch 6/10\n",
      "60000/60000 [==============================] - 26s 431us/sample - loss: 0.0265 - accuracy: 0.9913 - val_loss: 0.0306 - val_accuracy: 0.9889\n",
      "Epoch 7/10\n",
      "60000/60000 [==============================] - 28s 463us/sample - loss: 0.0223 - accuracy: 0.9928 - val_loss: 0.0330 - val_accuracy: 0.9890\n",
      "Epoch 8/10\n",
      "60000/60000 [==============================] - 26s 435us/sample - loss: 0.0184 - accuracy: 0.9944 - val_loss: 0.0353 - val_accuracy: 0.9883\n",
      "Epoch 9/10\n",
      "60000/60000 [==============================] - 25s 421us/sample - loss: 0.0165 - accuracy: 0.9944 - val_loss: 0.0285 - val_accuracy: 0.9908\n",
      "Epoch 10/10\n",
      "60000/60000 [==============================] - 27s 446us/sample - loss: 0.0148 - accuracy: 0.9953 - val_loss: 0.0301 - val_accuracy: 0.9903\n",
      "CNN error: 0.97\n"
     ]
    }
   ],
   "source": [
    "from tensorflow.keras.datasets import mnist\n",
    "from tensorflow.keras.models import Sequential\n",
    "from tensorflow.keras.layers import Dense, Dropout, Flatten, Conv2D, MaxPooling2D\n",
    "# from tensorflow.keras.layers.convolutional import Conv2D, MaxPooling2D\n",
    "from keras.utils import np_utils\n",
    "\n",
    "# load data\n",
    "(X_train, y_train), (X_test, y_test) = mnist.load_data()\n",
    "\n",
    "# reshape to be [samples][width][height][channels]\n",
    "X_train = X_train.reshape((X_train.shape[0], 28, 28, 1)).astype('float32')\n",
    "X_test = X_test.reshape((X_test.shape[0], 28, 28, 1)).astype('float32')\n",
    "\n",
    "# normalize inputs from 0-255 to 0-1\n",
    "X_train = X_train / 255\n",
    "X_test = X_test / 255\n",
    "\n",
    "# one hot encode outputs\n",
    "y_train = np_utils.to_categorical(y_train)\n",
    "y_test = np_utils.to_categorical(y_test)\n",
    "num_classes = y_test.shape[1]\n",
    "\n",
    "# define a simple CNN model\n",
    "def baseline_model():\n",
    "    # create model\n",
    "    model = Sequential()\n",
    "    model.add(Conv2D(32, (5,5), input_shape=(28, 28, 1), activation='relu'))\n",
    "    model.add(MaxPooling2D())\n",
    "    model.add(Dropout(0.2))\n",
    "    model.add(Flatten())\n",
    "    model.add(Dense(128, activation='relu'))\n",
    "    model.add(Dense(num_classes, activation='softmax'))\n",
    "    # compile model\n",
    "    model.compile(loss='categorical_crossentropy', optimizer='adam', metrics=['accuracy'])\n",
    "    return model\n",
    "\n",
    "# Build the model\n",
    "model = baseline_model()\n",
    "# Fit the model\n",
    "model.fit(X_train, y_train, validation_data=(X_test, y_test), epochs=10, batch_size=200)\n",
    "# Final evaluation of the model\n",
    "scores = model.evaluate(X_test, y_test, verbose=0)\n",
    "print(f\"CNN error: {100-scores[1]*100:0.2f}\")"
   ]
  },
  {
   "cell_type": "code",
   "execution_count": null,
   "metadata": {},
   "outputs": [],
   "source": []
  }
 ],
 "metadata": {
  "kernelspec": {
   "display_name": "Python 3",
   "language": "python",
   "name": "python3"
  },
  "language_info": {
   "codemirror_mode": {
    "name": "ipython",
    "version": 3
   },
   "file_extension": ".py",
   "mimetype": "text/x-python",
   "name": "python",
   "nbconvert_exporter": "python",
   "pygments_lexer": "ipython3",
   "version": "3.7.4"
  }
 },
 "nbformat": 4,
 "nbformat_minor": 4
}
